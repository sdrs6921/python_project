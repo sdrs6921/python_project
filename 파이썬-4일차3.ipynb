{
 "cells": [
  {
   "cell_type": "code",
   "execution_count": 7,
   "metadata": {},
   "outputs": [],
   "source": [
    "from csv import reader\n",
    "opened_file = open('googleplaystore.csv', encoding='UTF8')\n",
    "read_file = reader(opened_file)\n",
    "android = list(read_file)\n",
    "\n",
    "android_header = android[0]\n",
    "android = android[1:]"
   ]
  },
  {
   "cell_type": "code",
   "execution_count": 8,
   "metadata": {},
   "outputs": [
    {
     "name": "stdout",
     "output_type": "stream",
     "text": [
      "['App', 'Category', 'Rating', 'Reviews', 'Size', 'Installs', 'Type', 'Price', 'Content Rating', 'Genres', 'Last Updated', 'Current Ver', 'Android Ver']\n"
     ]
    }
   ],
   "source": [
    "print(android_header)"
   ]
  },
  {
   "cell_type": "code",
   "execution_count": 11,
   "metadata": {},
   "outputs": [
    {
     "name": "stdout",
     "output_type": "stream",
     "text": [
      "215644\n",
      "{'Art & Design': '8788', 'Art & Design;Pretend Play': '974', 'Art & Design;Creativity': '967', 'Art & Design;Action & Adventure': '65', 'Auto & Vehicles': '994', 'Beauty': '964', 'Books & Reference': '98', 'Business': '984451', 'Comics': '9952', 'Comics;Creativity': '516', 'Communication': '99559', 'Dating': '97699', 'Education;Education': '89', 'Education': '99020', 'Education;Creativity': '9779', 'Education;Music & Video': '7462', 'Education;Action & Adventure': '765', 'Education;Pretend Play': '8', 'Education;Brain Games': '56897', 'Entertainment': '997', 'Entertainment;Music & Video': '8968', 'Entertainment;Brain Games': '985', 'Entertainment;Creativity': '9016', 'Events': '99', 'Finance': '967', 'Food & Drink': '95', 'Health & Fitness': '979', 'House & Home': '874', 'Libraries & Demo': '929', 'Lifestyle': '987', 'Lifestyle;Pretend Play': '140995', 'Adventure;Action & Adventure': '47644', 'Arcade': '9951', 'Casual': '9883367', 'Card': '910051', 'Casual;Pretend Play': '854', 'Action': '990796', 'Strategy': '99', 'Puzzle': '9699', 'Sports': '9992', 'Music': '8778', 'Word': '76627', 'Racing': '951435', 'Casual;Creativity': '68286', 'Casual;Action & Adventure': '87045', 'Simulation': '98324', 'Adventure': '995002', 'Board': '97209', 'Trivia': '937', 'Role Playing': '96658', 'Simulation;Education': '32812', 'Action;Action & Adventure': '9626', 'Casual;Brain Games': '61', 'Simulation;Action & Adventure': '530904', 'Educational;Creativity': '96', 'Puzzle;Brain Games': '9199', 'Educational;Education': '9652', 'Card;Brain Games': '685', 'Educational;Brain Games': '6404', 'Educational;Pretend Play': '6903', 'Entertainment;Education': '7320', 'Casual;Education': '9019', 'Music;Music & Video': '46741', 'Racing;Action & Adventure': '79667', 'Arcade;Pretend Play': '23671', 'Role Playing;Action & Adventure': '530792', 'Simulation;Pretend Play': '63192', 'Puzzle;Creativity': '70883', 'Sports;Action & Adventure': '56444', 'Educational;Action & Adventure': '969', 'Arcade;Action & Adventure': '8508', 'Entertainment;Action & Adventure': '3484', 'Puzzle;Action & Adventure': '24877', 'Strategy;Action & Adventure': '20463', 'Music & Audio;Music & Video': '1369', 'Health & Fitness;Education': '9856', 'Adventure;Education': '288606', 'Board;Brain Games': '97', 'Board;Action & Adventure': '68559', 'Board;Pretend Play': '4', 'Casual;Music & Video': '38021', 'Role Playing;Pretend Play': '43852', 'Entertainment;Pretend Play': '60097', 'Video Players & Editors;Creativity': '159622', 'Card;Action & Adventure': '920571', 'Medical': '9945', 'Social': '9606', 'Shopping': '9975', 'Photography': '98717', 'Travel & Local': '9971', 'Travel & Local;Action & Adventure': '890', 'Tools': '999', 'Tools;Education': '342336', 'Personalization': '98', 'Productivity': '9914', 'Parenting': '99', 'Parenting;Music & Video': '39', 'Parenting;Education': '76', 'Parenting;Brain Games': '3614', 'Weather': '981995', 'Video Players & Editors': '9966', 'Video Players & Editors;Music & Video': '39779', 'News & Magazines': '978', 'Maps & Navigation': '96', 'Health & Fitness;Action & Adventure': '31061', 'Educational': '95', 'Casino': '8608', 'Adventure;Brain Games': '7148', 'Trivia;Education': '8', 'Lifestyle;Education': '3146', 'Books & Reference;Creativity': '9', 'Books & Reference;Education': '429', 'Puzzle;Education': '834', 'Role Playing;Education': '1', 'Role Playing;Brain Games': '151374', 'Strategy;Education': '2062', 'Racing;Pretend Play': '2200', 'Communication;Creativity': '3478', 'February 11, 2018': 3000000.0, 'Strategy;Creativity': '129542'}\n"
     ]
    }
   ],
   "source": [
    "\"\"\"\n",
    "앱 별 MAX 리뷰 수 분석\n",
    "1. 빈 딕셔너리 생성\n",
    "2. key는 unique한 genre 이름\n",
    "3. value는 앱 중 가장 많은 리뷰 수\n",
    "4. 앱 데이터가 딕셔너리에 없으면 앱의 이름과 리뷰 개수를 저장\n",
    "5. 만약 있다면 더 큰 리뷰수에 저장\n",
    "\"\"\"\n",
    "review_max = {}\n",
    "print(android[3][3])\n",
    "\n",
    "for app in android:\n",
    "    genre = app[9]\n",
    "    reviews = app[3]\n",
    "    if 'M' in reviews:\n",
    "        reviews = reviews[:-1]\n",
    "        reviews = float(reviews)\n",
    "        reviews *= 1000000.0\n",
    "    \n",
    "    if genre in review_max:\n",
    "        if reviews > review_max[genre]:\n",
    "            review_max[genre] = reviews\n",
    "    else:\n",
    "        review_max[genre] = reviews\n",
    "\n",
    "print(review_max)"
   ]
  },
  {
   "cell_type": "code",
   "execution_count": null,
   "metadata": {},
   "outputs": [],
   "source": []
  }
 ],
 "metadata": {
  "kernelspec": {
   "display_name": "Python 3",
   "language": "python",
   "name": "python3"
  },
  "language_info": {
   "codemirror_mode": {
    "name": "ipython",
    "version": 3
   },
   "file_extension": ".py",
   "mimetype": "text/x-python",
   "name": "python",
   "nbconvert_exporter": "python",
   "pygments_lexer": "ipython3",
   "version": "3.7.3"
  }
 },
 "nbformat": 4,
 "nbformat_minor": 2
}
