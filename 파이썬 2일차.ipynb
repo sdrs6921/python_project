{
 "cells": [
  {
   "cell_type": "code",
   "execution_count": 1,
   "metadata": {},
   "outputs": [
    {
     "name": "stdout",
     "output_type": "stream",
     "text": [
      "['honda', 'yamaha', 'suzuki']\n",
      "['ducati', 'yamaha', 'suzuki']\n",
      "['ducati', 'hollydavision', 'bmw']\n"
     ]
    }
   ],
   "source": [
    "#list is mutable\n",
    "motorcycles = ['honda', 'yamaha', 'suzuki']\n",
    "print(motorcycles)\n",
    "motorcycles[0] = 'ducati'\n",
    "print(motorcycles)\n",
    "motorcycles[1:3] = ['hollydavision', 'bmw']\n",
    "print(motorcycles)"
   ]
  },
  {
   "cell_type": "code",
   "execution_count": 2,
   "metadata": {},
   "outputs": [
    {
     "name": "stdout",
     "output_type": "stream",
     "text": [
      "['honda', 'yamaha', 'suzuki']\n",
      "['honda', 'yamaha', 'suzuki', 'ducati']\n"
     ]
    }
   ],
   "source": [
    "motorcycles = ['honda', 'yamaha', 'suzuki']\n",
    "print(motorcycles)\n",
    "motorcycles.append('ducati')\n",
    "print(motorcycles)"
   ]
  },
  {
   "cell_type": "code",
   "execution_count": 4,
   "metadata": {},
   "outputs": [
    {
     "name": "stdout",
     "output_type": "stream",
     "text": [
      "['honda', 'yamaha', 'suzuki']\n"
     ]
    }
   ],
   "source": [
    "#빈 리스트 생성하고 append함수를 통해 리스트 항목 추가\n",
    "motorcycles = []\n",
    "motorcycles.append('honda')\n",
    "motorcycles.append('yamaha')\n",
    "motorcycles.append('suzuki')\n",
    "print(motorcycles)"
   ]
  },
  {
   "cell_type": "code",
   "execution_count": 5,
   "metadata": {},
   "outputs": [
    {
     "name": "stdout",
     "output_type": "stream",
     "text": [
      "['ducati', 'honda', 'yamaha', 'suzuki']\n",
      "['ducati', 'honda', 'ducati', 'yamaha', 'suzuki']\n"
     ]
    }
   ],
   "source": [
    "#리스트에 insert함수를 사용해서 해당 index에 추가 이후 뒤의 리스트는 뒤로 밀림.\n",
    "motorcycles = ['honda', 'yamaha', 'suzuki']\n",
    "motorcycles.insert(0, 'ducati')\n",
    "print(motorcycles)\n",
    "motorcycles.insert(2, 'ducati')\n",
    "print(motorcycles)"
   ]
  },
  {
   "cell_type": "code",
   "execution_count": 6,
   "metadata": {},
   "outputs": [
    {
     "name": "stdout",
     "output_type": "stream",
     "text": [
      "['honda', 'yamaha', 'suzuki']\n",
      "['yamaha', 'suzuki']\n"
     ]
    }
   ],
   "source": [
    "#리스트에서 del함수를 이용해서 항목을 제거 -> index를 이용해서 삭제하는 del\n",
    "motorcycles = ['honda', 'yamaha', 'suzuki']\n",
    "print(motorcycles)\n",
    "del motorcycles[0]\n",
    "print(motorcycles)"
   ]
  },
  {
   "cell_type": "code",
   "execution_count": 7,
   "metadata": {},
   "outputs": [
    {
     "name": "stdout",
     "output_type": "stream",
     "text": [
      "['honda', 'yamaha', 'suzuki']\n",
      "suzuki\n"
     ]
    }
   ],
   "source": [
    "#리스트에서 pop을 통해 가장 뒤에 있는 element를 제거후 해당 요소 리턴\n",
    "motorcycles = ['honda', 'yamaha', 'suzuki']\n",
    "print(motorcycles)\n",
    "\n",
    "popped_motorcycles = motorcycles.pop()\n",
    "print(popped_motorcycles)"
   ]
  },
  {
   "cell_type": "code",
   "execution_count": 8,
   "metadata": {},
   "outputs": [
    {
     "name": "stdout",
     "output_type": "stream",
     "text": [
      "['honda', 'ducati', 'yamaha', 'suzuki', 'ducati']\n",
      "['honda', 'yamaha', 'suzuki', 'ducati']\n",
      "['honda', 'yamaha', 'suzuki']\n"
     ]
    }
   ],
   "source": [
    "#리스트에서 리스트의 element 이름으로 제거하는 방법 - remove\n",
    "#remove에서는 동일한 이름의 두 가지 요소가 존재한다면 둘 다 삭제되는 것이 아니라 맨 앞의 index를 삭제\n",
    "motorcycles = ['honda', 'ducati','yamaha', 'suzuki','ducati']\n",
    "print(motorcycles)\n",
    "\n",
    "#변수에 담에서 제거가능\n",
    "too_expensive = 'ducati'\n",
    "motorcycles.remove(too_expensive)\n",
    "print(motorcycles)\n",
    "#직접 이름으로 제거 가능\n",
    "motorcycles.remove('ducati')\n",
    "print(motorcycles)"
   ]
  },
  {
   "cell_type": "code",
   "execution_count": 9,
   "metadata": {},
   "outputs": [
    {
     "name": "stdout",
     "output_type": "stream",
     "text": [
      "['audi', 'bmw', 'subaru', 'toyota']\n"
     ]
    }
   ],
   "source": [
    "#리스트를 정렬하는 메서드 - sort해당 리스트를 정렬하는 기능 문자열일 경우 알파벳 순서대로 정렬\n",
    "cars = ['bmw', 'audi', 'toyota', 'subaru']\n",
    "cars.sort()\n",
    "print(cars)"
   ]
  },
  {
   "cell_type": "code",
   "execution_count": 11,
   "metadata": {},
   "outputs": [
    {
     "name": "stdout",
     "output_type": "stream",
     "text": [
      "['toyota', 'subaru', 'bmw', 'audi']\n"
     ]
    }
   ],
   "source": [
    "#리스트 정렬 메서드 중에서 역순으로 정렬 할 경우 reverse = True를 매개변수로 전달\n",
    "cars = ['bmw', 'audi', 'toyota', 'subaru']\n",
    "cars.sort(reverse=True)\n",
    "print(cars)"
   ]
  },
  {
   "cell_type": "code",
   "execution_count": 12,
   "metadata": {},
   "outputs": [
    {
     "name": "stdout",
     "output_type": "stream",
     "text": [
      "Here is the Original Data\n",
      "['bmw', 'audi', 'toyota', 'subaru']\n",
      "Here is the sorted list\n",
      "['audi', 'bmw', 'subaru', 'toyota']\n",
      "Here is the Original Data again\n",
      "['bmw', 'audi', 'toyota', 'subaru']\n"
     ]
    }
   ],
   "source": [
    "#sorted메서드 -> 원본 데이터는 유지한 채 정렬된 리스트를 반환\n",
    "cars = ['bmw', 'audi', 'toyota', 'subaru']\n",
    "print(\"Here is the Original Data\")\n",
    "print(cars)\n",
    "print(\"Here is the sorted list\")\n",
    "print(sorted(cars))\n",
    "print(\"Here is the Original Data again\")\n",
    "print(cars)"
   ]
  },
  {
   "cell_type": "code",
   "execution_count": 13,
   "metadata": {},
   "outputs": [
    {
     "name": "stdout",
     "output_type": "stream",
     "text": [
      "['bmw', 'audi', 'toyota', 'subaru']\n",
      "['subaru', 'toyota', 'audi', 'bmw']\n"
     ]
    }
   ],
   "source": [
    "#정렬과 관계없이 리스트의 순서를 역순으로 바꾸는 reverse 메서드\n",
    "cars = ['bmw', 'audi', 'toyota', 'subaru']\n",
    "print(cars)\n",
    "cars.reverse()\n",
    "print(cars)"
   ]
  },
  {
   "cell_type": "code",
   "execution_count": 14,
   "metadata": {},
   "outputs": [
    {
     "data": {
      "text/plain": [
       "4"
      ]
     },
     "execution_count": 14,
     "metadata": {},
     "output_type": "execute_result"
    }
   ],
   "source": [
    "#길이를 계산하는 len함수\n",
    "cars = ['bmw', 'audi', 'toyota', 'subaru']\n",
    "len(cars)"
   ]
  },
  {
   "cell_type": "code",
   "execution_count": 19,
   "metadata": {},
   "outputs": [
    {
     "name": "stdout",
     "output_type": "stream",
     "text": [
      "alice\n",
      "david\n",
      "carolina\n",
      "Alice, that was a great trick!\n",
      "David, that was a great trick!\n",
      "Carolina, that was a great trick!\n",
      "Thank you, everyone. That was a great show!\n"
     ]
    }
   ],
   "source": [
    "#반복문 활용하기 - for + String의 tile은 맨 처음 문자를 대문자로 바꿈\n",
    "magicians = ['alice', 'david', 'carolina']\n",
    "\n",
    "for magician in magicians:\n",
    "    print(magician)\n",
    "\n",
    "for magician in magicians:\n",
    "    print(magician.title() + \", that was a great trick!\")\n",
    "\n",
    "print(\"Thank you, everyone. That was a great show!\")"
   ]
  },
  {
   "cell_type": "code",
   "execution_count": 18,
   "metadata": {},
   "outputs": [
    {
     "name": "stdout",
     "output_type": "stream",
     "text": [
      "['honda', 'yamaha', 'suzuki']\n"
     ]
    },
    {
     "data": {
      "text/plain": [
       "['honda', 'yamaha', 'suzuki', 'a', 'b', 'c']"
      ]
     },
     "execution_count": 18,
     "metadata": {},
     "output_type": "execute_result"
    }
   ],
   "source": [
    "#리스트의 extend메서드 여러개의 메서드를 추가하는 방식\n",
    "motorcycles = []\n",
    "motorcycles.extend(['honda', 'yamaha', 'suzuki'])\n",
    "print(motorcycles)\n",
    "motorcycles + ['a', 'b', 'c']"
   ]
  },
  {
   "cell_type": "code",
   "execution_count": 21,
   "metadata": {},
   "outputs": [
    {
     "name": "stdout",
     "output_type": "stream",
     "text": [
      "Charles\n",
      "Martina\n",
      "Michael\n",
      "\n",
      "\n",
      "Martina\n",
      "Michael\n",
      "Florence\n",
      "Eli\n"
     ]
    }
   ],
   "source": [
    "#리스트의 slicing을 이용한 반복문\n",
    "players = ['charles', 'martina', 'michael', 'florence', 'eli']\n",
    "for player in players[:3]:\n",
    "    print(player.title())\n",
    "\n",
    "print('\\n')\n",
    "    \n",
    "for player in players[1:]:\n",
    "    print(player.title())"
   ]
  },
  {
   "cell_type": "code",
   "execution_count": 22,
   "metadata": {},
   "outputs": [
    {
     "name": "stdout",
     "output_type": "stream",
     "text": [
      "1\n",
      "2\n",
      "3\n",
      "4\n",
      "\n",
      "\n",
      "1\n",
      "2\n",
      "3\n",
      "4\n",
      "5\n",
      "\n",
      "\n",
      "[1, 2, 3, 4, 5]\n",
      "\n",
      "\n",
      "[2, 4, 6, 8, 10]\n"
     ]
    }
   ],
   "source": [
    "#range함수를 이용한 for문 및 정수형 리스트 생성\n",
    "for value in range(1,5):\n",
    "    print(value)\n",
    "    \n",
    "print('\\n')\n",
    "\n",
    "for value in range(1,6):\n",
    "    print(value)\n",
    "    \n",
    "print('\\n')\n",
    "\n",
    "numbers = list(range(1,6))\n",
    "print(numbers)\n",
    "print('\\n')\n",
    "\n",
    "even_numbers = list(range(2, 11, 2))\n",
    "print(even_numbers)"
   ]
  },
  {
   "cell_type": "code",
   "execution_count": 27,
   "metadata": {},
   "outputs": [
    {
     "name": "stdout",
     "output_type": "stream",
     "text": [
      "[1, 4, 9, 16, 25, 36, 49, 64, 81, 100]\n"
     ]
    }
   ],
   "source": [
    "#빈 리스트 생성 후 연산 과정을 거쳐 리스트에 추가하는 코드\n",
    "squares = []\n",
    "\n",
    "for value in range(1, 11):\n",
    "    square = value ** 2\n",
    "    squares.append(value ** 2)\n",
    "    \n",
    "print(squares)"
   ]
  },
  {
   "cell_type": "code",
   "execution_count": 28,
   "metadata": {},
   "outputs": [
    {
     "name": "stdout",
     "output_type": "stream",
     "text": [
      "0\n",
      "9\n",
      "45\n"
     ]
    }
   ],
   "source": [
    "#통계함수- min, max, sum\n",
    "digits = [1 ,2 ,3 ,4 ,5 ,6 ,7 ,8 ,9 ,0]\n",
    "print(min(digits))\n",
    "print(max(digits))\n",
    "print(sum(digits))"
   ]
  },
  {
   "cell_type": "code",
   "execution_count": 29,
   "metadata": {},
   "outputs": [
    {
     "name": "stdout",
     "output_type": "stream",
     "text": [
      "['a', 'z', 'c']\n",
      "['a', 'z', 'c']\n",
      "['k', 'z', 'c']\n",
      "['k', 'z', 'c']\n"
     ]
    }
   ],
   "source": [
    "#리스트 복사\n",
    "\n",
    "#리스트를 복사하지 않을 경우 원본 데이터가 변경될 수 있음\n",
    "#Shallow Copy? Deep Copy? -> Shallow Copy\n",
    "x = [\"a\", \"b\", \"c\"]\n",
    "y = x\n",
    "y[1] = \"z\"\n",
    "print(y)\n",
    "print(x)\n",
    "\n",
    "x[0] = \"k\"\n",
    "print(y)\n",
    "print(x)"
   ]
  },
  {
   "cell_type": "code",
   "execution_count": 30,
   "metadata": {},
   "outputs": [
    {
     "name": "stdout",
     "output_type": "stream",
     "text": [
      "My favorite foods are:\n",
      "['pizza', 'falafel', 'carrot cake', 'cannoli']\n",
      "\n",
      "\n",
      "My friend's favorites foods are:\n",
      "['pizza', 'falafel', 'carrot cake', 'ice cream']\n"
     ]
    }
   ],
   "source": [
    "#리스트를 복사해서 원본 데이터를 보호하는 예제\n",
    "my_food = [\"pizza\", \"falafel\", 'carrot cake']\n",
    "friend_food = my_food[:]\n",
    "\n",
    "my_food.append('cannoli')\n",
    "friend_food.append('ice cream')\n",
    "\n",
    "print(\"My favorite foods are:\")\n",
    "print(my_food)\n",
    "print(\"\\n\")\n",
    "print(\"My friend's favorites foods are:\")\n",
    "print(friend_food)"
   ]
  },
  {
   "cell_type": "code",
   "execution_count": 37,
   "metadata": {},
   "outputs": [
    {
     "name": "stdout",
     "output_type": "stream",
     "text": [
      "['Facebook', 0.0, 'USD', 2974646, 3.5]\n",
      "<class 'list'>\n",
      "['Instagram', 0.0, 'USD', 2161558, 4.5]\n",
      "<class 'list'>\n",
      "['Clash of Clan', 0.0, 'USD', 2130805, 4.5]\n",
      "<class 'list'>\n"
     ]
    }
   ],
   "source": [
    "#리스트 생성 및 출력\n",
    "row_1 = ['Facebook', 0.0, 'USD', 2974646, 3.5]\n",
    "row_2 = ['Instagram', 0.0, 'USD', 2161558, 4.5]\n",
    "row_3 = ['Clash of Clan', 0.0, 'USD', 2130805, 4.5]\n",
    "print(row_1)\n",
    "print(type(row_1))\n",
    "print(row_2)\n",
    "print(type(row_2))\n",
    "print(row_3)\n",
    "print(type(row_3))"
   ]
  },
  {
   "cell_type": "code",
   "execution_count": 39,
   "metadata": {},
   "outputs": [
    {
     "name": "stdout",
     "output_type": "stream",
     "text": [
      "4.166666666666667\n",
      "4.166666666666667\n"
     ]
    }
   ],
   "source": [
    "#3개의 리스트의 평점을 평균을 구하기\n",
    "row_1_rating = row_1[4]\n",
    "row_2_rating = row_2[4]\n",
    "row_3_rating = row_3[4]\n",
    "\n",
    "average_rating = (row_1_rating + row_2_rating + row_3_rating) / 3\n",
    "print(average_grade)\n",
    "\n",
    "#negative index로 각 리스트의 평점의 평균을 구하기\n",
    "row_1_rating = row_1[-1]\n",
    "row_2_rating = row_2[-1]\n",
    "row_3_rating = row_3[-1]\n",
    "\n",
    "average_rating = (row_1_rating + row_2_rating + row_3_rating) / 3\n",
    "print(average_rating)"
   ]
  },
  {
   "cell_type": "code",
   "execution_count": 40,
   "metadata": {},
   "outputs": [
    {
     "name": "stdout",
     "output_type": "stream",
     "text": [
      "['Facebook', 0.0, 'USD', 2974646]\n",
      "['USD', 2974646, 3.5]\n",
      "['USD', 2161558]\n"
     ]
    }
   ],
   "source": [
    "#리스트 sliciing을 활용하기\n",
    "\n",
    "#1. Facebook Data의 첫 4개 데이터 출력\n",
    "print(row_1[:4])\n",
    "\n",
    "#2. Facebook Data의 마지막 3개 데이터 출력\n",
    "print(row_1[2:])\n",
    "#print(row_1[-3:]) 마지막 == 음수 인덱스로 처리하면 편함\n",
    "\n",
    "#3. Instagram Data 중 ['USD', 216558] 서브 리스트 출력\n",
    "print(row_2[2:4])"
   ]
  },
  {
   "cell_type": "code",
   "execution_count": 43,
   "metadata": {},
   "outputs": [
    {
     "name": "stdout",
     "output_type": "stream",
     "text": [
      "[1, 2, 3]\n",
      "[4, 5, 6]\n",
      "2\n",
      "6\n"
     ]
    }
   ],
   "source": [
    "#list 안에 또 다른 list\n",
    "list_1 = [1, 2, 3]\n",
    "list_2 = [4, 5, 6]\n",
    "\n",
    "list_of_list = [list_1, list_2]\n",
    "\n",
    "print(list_of_list[0])\n",
    "print(list_of_list[1])\n",
    "\n",
    "print(list_of_list[0][1])\n",
    "print(list_of_list[1][2])"
   ]
  },
  {
   "cell_type": "code",
   "execution_count": 50,
   "metadata": {},
   "outputs": [
    {
     "name": "stdout",
     "output_type": "stream",
     "text": [
      "[['Facebook', 0.0, 'USD', 2974646, 3.5], ['Instagram', 0.0, 'USD', 2161558, 4.5], ['Clash of Clan', 0.0, 'USD', 2130805, 4.5]]\n",
      "4.166666666666667\n"
     ]
    }
   ],
   "source": [
    "#아까 만든 리스트를 app_data_set으로 묶어서 평점 평균을 계산\n",
    "app_data_set = [row_1, row_2, row_3]\n",
    "average_rating = 0\n",
    "\n",
    "print(app_data_set)\n",
    "average_rating = (app_data_set[0][-1] + app_data_set[1][-1] + app_data_set[2][-1]) / 3\n",
    "\n",
    "print(average_rating)"
   ]
  },
  {
   "cell_type": "code",
   "execution_count": 3,
   "metadata": {},
   "outputs": [
    {
     "name": "stdout",
     "output_type": "stream",
     "text": [
      "<class 'list'>\n",
      "7198\n",
      "['id', 'track_name', 'size_bytes', 'currency', 'price', 'rating_count_tot', 'rating_count_ver', 'user_rating', 'user_rating_ver', 'ver', 'cont_rating', 'prime_genre', 'sup_devices.num', 'ipadSc_urls.num', 'lang.num', 'vpp_lic']\n",
      "['284882215', 'Facebook', '389879808', 'USD', '0.0', '2974676', '212', '3.5', '3.5', '95.0', '4+', 'Social Networking', '37', '1', '29', '1']\n"
     ]
    }
   ],
   "source": [
    "from csv import reader\n",
    "\n",
    "#CSV파일을 open하고 apps_data 리스트에 받아옴\n",
    "opened_file = open('AppleStore.csv', encoding='UTF8')\n",
    "read_file = reader(opened_file)\n",
    "apps_data = list(read_file)\n",
    "\n",
    "print(type(apps_data))\n",
    "print(len(apps_data))\n",
    "print(apps_data[0])\n",
    "print(apps_data[1])"
   ]
  },
  {
   "cell_type": "code",
   "execution_count": 20,
   "metadata": {},
   "outputs": [
    {
     "name": "stdout",
     "output_type": "stream",
     "text": [
      "3.526955675976101\n"
     ]
    }
   ],
   "source": [
    "#csv파일에 있는 app_data정보들을 받아와서 평점을 분석하기.\n",
    "#1. 헤더를 제외하도록 받아온 data들을 slicing해야 함.\n",
    "#2. 모든 앱들의 평균 평점을 계산\n",
    "#3. 평점 데이터는 7번 index -> csv파일을 읽어올 때 문자열로 읽어오기 때문에 float로 casting해야함\n",
    "\n",
    "rating_sum = 0.0\n",
    "for data in apps_data[1:]:\n",
    "    rating = data[7]\n",
    "    rating_sum += float(rating)\n",
    "\n",
    "#헤더 부분을 제외한 data이기 때문에 (len(apps_data) -1) 하거나\n",
    "#len(apps_data[1:])\n",
    "average = rating_sum / (len(apps_data) - 1)\n",
    "print(average)"
   ]
  },
  {
   "cell_type": "code",
   "execution_count": 11,
   "metadata": {},
   "outputs": [],
   "source": [
    "row_1 = ['Facebook', 0.0, 'USD', 2974646, 3.5]\n",
    "row_2 = ['Instagram', 0.0, 'USD', 2161558, 4.5]\n",
    "row_3 = ['Clash of Clan', 0.0, 'USD', 2130805, 4.5]\n",
    "app_data_set = [row_1, row_2, row_3]"
   ]
  },
  {
   "cell_type": "code",
   "execution_count": 13,
   "metadata": {},
   "outputs": [
    {
     "name": "stdout",
     "output_type": "stream",
     "text": [
      "['Facebook', 0.0, 'USD', 2974646, 3.5]\n",
      "3.5\n",
      "['Instagram', 0.0, 'USD', 2161558, 4.5]\n",
      "8.0\n",
      "['Clash of Clan', 0.0, 'USD', 2130805, 4.5]\n",
      "12.5\n",
      "4.166666666666667\n"
     ]
    }
   ],
   "source": [
    "#app_data_set - for문을 돌면서 각 리스트의 data를 확인하고 이를 출력\n",
    "#출력 후 rating에 대한 정보를 더함\n",
    "#평균을 구함.\n",
    "rating_sum = 0\n",
    "\n",
    "for data in app_data_set:\n",
    "    print(data)\n",
    "    rating_sum += data[4]\n",
    "    #rating_sum += data[-1]\n",
    "    print(rating_sum)\n",
    "\n",
    "average = rating_sum / len(app_data_set)\n",
    "print(average)"
   ]
  },
  {
   "cell_type": "code",
   "execution_count": 22,
   "metadata": {},
   "outputs": [
    {
     "name": "stdout",
     "output_type": "stream",
     "text": [
      "3.526955675976101\n"
     ]
    }
   ],
   "source": [
    "#평점을 빈 리스트에 저장 후, sum과 len함수를 통한 평균값.\n",
    "#1. 빈 리스트 상성\n",
    "#2. 헤더를 제외하고 반복\n",
    "#3. 평점을 꺼내서 리스트에 append\n",
    "#4. 반복문 종료 후 sum과 len함수를 이용하여 평균값 구하기.\n",
    "\n",
    "all_ratings = []\n",
    "\n",
    "for data in apps_data[1:]:\n",
    "    rating = float(data[7])\n",
    "    all_ratings.append(rating)\n",
    "    #all_ratings.append(float(data[7]))\n",
    "    \n",
    "average = sum(all_ratings) / len(all_ratings)\n",
    "print(average)"
   ]
  },
  {
   "cell_type": "code",
   "execution_count": 25,
   "metadata": {},
   "outputs": [
    {
     "name": "stdout",
     "output_type": "stream",
     "text": [
      "200\n",
      "50\n"
     ]
    }
   ],
   "source": [
    "#Tuple\n",
    "#immutable -> 항목을 변경할 수 없는 자료구조\n",
    "#immutable programming\n",
    "#이 부분 빼고는 리스트와 유사\n",
    "dimensions = (200, 50)\n",
    "print(dimensions[0])\n",
    "print(dimensions[1])\n",
    "#dimensions[0] = 250 에러 발생 기존의 값을 변경할 수 없음"
   ]
  },
  {
   "cell_type": "code",
   "execution_count": 26,
   "metadata": {},
   "outputs": [
    {
     "name": "stdout",
     "output_type": "stream",
     "text": [
      "Audi\n",
      "BMW\n",
      "Subaru\n",
      "Toyota\n"
     ]
    }
   ],
   "source": [
    "#조건문 if문/ if-elif-else조합으로 분기하는 것이 가능\n",
    "cars = ['audi', 'bmw', 'subaru', 'toyota']\n",
    "for car in cars:\n",
    "    if car == 'bmw':\n",
    "        print(car.upper())\n",
    "    else:\n",
    "        print(car.title())"
   ]
  },
  {
   "cell_type": "code",
   "execution_count": 29,
   "metadata": {},
   "outputs": [
    {
     "name": "stdout",
     "output_type": "stream",
     "text": [
      "True\n",
      "False\n"
     ]
    }
   ],
   "source": [
    "#bool data type - ==연산자\n",
    "car = 'bmw'\n",
    "print(car == \"bmw\")\n",
    "car = 'audi'\n",
    "print(car == 'bmw')"
   ]
  },
  {
   "cell_type": "code",
   "execution_count": 31,
   "metadata": {},
   "outputs": [
    {
     "name": "stdout",
     "output_type": "stream",
     "text": [
      "True\n",
      "<class 'bool'>\n",
      "<class 'bool'>\n"
     ]
    }
   ],
   "source": [
    "isTrue = True\n",
    "print(isTrue)\n",
    "print(type(isTrue))\n",
    "print(type(False))"
   ]
  },
  {
   "cell_type": "code",
   "execution_count": 33,
   "metadata": {},
   "outputs": [
    {
     "name": "stdout",
     "output_type": "stream",
     "text": [
      "False\n",
      "True\n"
     ]
    }
   ],
   "source": [
    "#bool data type - !=연산자 \n",
    "car = 'bmw'\n",
    "print(car != \"bmw\")\n",
    "car = 'audi'\n",
    "print(car != 'bmw')"
   ]
  },
  {
   "cell_type": "code",
   "execution_count": 34,
   "metadata": {},
   "outputs": [
    {
     "name": "stdout",
     "output_type": "stream",
     "text": [
      "False\n",
      "True\n",
      "False\n",
      "True\n"
     ]
    }
   ],
   "source": [
    "age = 21\n",
    "print(age < 21)\n",
    "print(age <= 21)\n",
    "print(age > 21)\n",
    "print(age >= 21)"
   ]
  },
  {
   "cell_type": "code",
   "execution_count": 36,
   "metadata": {},
   "outputs": [
    {
     "name": "stdout",
     "output_type": "stream",
     "text": [
      "False\n",
      "False\n"
     ]
    }
   ],
   "source": [
    "age_0 = 22\n",
    "age_1 = 18\n",
    "print(age_0 >= 21 and age_1 >= 21)\n",
    "age_0 =18\n",
    "print(age_0 >= 21 and age_1 >- 21)"
   ]
  },
  {
   "cell_type": "code",
   "execution_count": null,
   "metadata": {},
   "outputs": [],
   "source": []
  },
  {
   "cell_type": "code",
   "execution_count": 41,
   "metadata": {},
   "outputs": [
    {
     "name": "stdout",
     "output_type": "stream",
     "text": [
      "B\n"
     ]
    }
   ],
   "source": [
    "scores = []\n",
    "total = 0\n",
    "scores.append(70)\n",
    "scores.append(80)\n",
    "scores.append(90)\n",
    "    \n",
    "average = sum(scores) / len(scores)\n",
    "\n",
    "if (average >= 90):\n",
    "    print(\"A\")\n",
    "elif (average < 90 and average >= 80):\n",
    "    print(\"B\")\n",
    "elif (average < 80 and average >= 70):\n",
    "    print(\"C\")\n",
    "elif (average < 70 and average >= 60):\n",
    "    print(\"D\")\n",
    "else:\n",
    "    print(\"F\")"
   ]
  },
  {
   "cell_type": "code",
   "execution_count": 48,
   "metadata": {},
   "outputs": [
    {
     "name": "stdout",
     "output_type": "stream",
     "text": [
      "3.3767258382642997\n"
     ]
    }
   ],
   "source": [
    "#무료 앱의 평점을 계산하기.\n",
    "#1. 빈 리스트 생성.\n",
    "#2. apps_data 데이터 중 가격이 무료인 앱만 free_apps_rating에 포함\n",
    "#3. 가격 4번 idx 평점 7번 idx\n",
    "#4. 평균 계산\n",
    "\n",
    "free_apps_rating = []\n",
    "\n",
    "for data in apps_data[1:]:\n",
    "    if float(data[4]) == 0.0:\n",
    "        free_apps_rating.append(float(data[7]))\n",
    "                                \n",
    "average = sum(free_apps_rating) / len(free_apps_rating)\n",
    "print(average)"
   ]
  },
  {
   "cell_type": "code",
   "execution_count": 50,
   "metadata": {},
   "outputs": [
    {
     "name": "stdout",
     "output_type": "stream",
     "text": [
      "3.720948742438714\n"
     ]
    }
   ],
   "source": [
    "#유료 앱의 평점을 계산하기.\n",
    "#1. 빈 리스트 생성.\n",
    "#2. apps_data 데이터 중 가격이 무료인 앱만 free_apps_rating에 포함\n",
    "#3. 가격 4번 idx 평점 7번 idx\n",
    "#4. 평균 계산\n",
    "\n",
    "non_free_apps_rating = []\n",
    "\n",
    "for data in apps_data[1:]:\n",
    "    if float(data[4]) != 0.0:\n",
    "        non_free_apps_rating.append(float(data[7]))\n",
    "\n",
    "non_free_apps_rating_average = sum(non_free_apps_rating) / len(non_free_apps_rating)\n",
    "print(non_free_apps_rating_average)"
   ]
  },
  {
   "cell_type": "code",
   "execution_count": 53,
   "metadata": {},
   "outputs": [
    {
     "name": "stdout",
     "output_type": "stream",
     "text": [
      "3.343928035982009\n"
     ]
    }
   ],
   "source": [
    "#게임이 아닌 앱의 평점을 계산하기.\n",
    "#1. 빈 리스트 생성.\n",
    "#2. apps_data 데이터 중 가격이 무료인 앱만 free_apps_ratin함\n",
    "#3. 장르 11번 idx 평점 7번 idx\n",
    "#4. 평균 계산\n",
    "\n",
    "non_game_rating = []\n",
    "\n",
    "for data in apps_data[1:]:\n",
    "    if (data[11] != 'Games'):\n",
    "        non_game_rating.append(float(data[7]))\n",
    "        \n",
    "average_non_game_rating = sum(non_game_rating) / len(non_game_rating)\n",
    "\n",
    "print(average_non_game_rating)"
   ]
  },
  {
   "cell_type": "code",
   "execution_count": 54,
   "metadata": {},
   "outputs": [
    {
     "name": "stdout",
     "output_type": "stream",
     "text": [
      "3.5285777580859548\n"
     ]
    }
   ],
   "source": [
    "#무료이면서 게임 앱인 애들의 평균\n",
    "free_game_ratings = []\n",
    "\n",
    "for data in apps_data[1:]:\n",
    "    price = float(data[4])\n",
    "    genre = data[11]\n",
    "    if price == 0.0 and genre == \"Games\":\n",
    "        rating = float(data[7])\n",
    "        free_game_ratings.append(rating)\n",
    "\n",
    "average_free_game_ratings = sum(free_game_ratings)/len(free_game_ratings)\n",
    "print(average_free_game_ratings)"
   ]
  },
  {
   "cell_type": "code",
   "execution_count": 60,
   "metadata": {},
   "outputs": [
    {
     "name": "stdout",
     "output_type": "stream",
     "text": [
      "[['id', 'track_name', 'size_bytes', 'currency', 'price', 'rating_count_tot', 'rating_count_ver', 'user_rating', 'user_rating_ver', 'ver', 'cont_rating', 'prime_genre', 'sup_devices.num', 'ipadSc_urls.num', 'lang.num', 'vpp_lic', 'free_or_not'], ['284882215', 'Facebook', '389879808', 'USD', '0.0', '2974676', '212', '3.5', '3.5', '95.0', '4+', 'Social Networking', '37', '1', '29', '1', 'free'], ['389801252', 'Instagram', '113954816', 'USD', '0.0', '2161558', '1289', '4.5', '4.0', '10.23', '12+', 'Photo & Video', '37', '0', '29', '1', 'free'], ['529479190', 'Clash of Clans', '116476928', 'USD', '0.0', '2130805', '579', '4.5', '4.5', '9.24.12', '9+', 'Games', '38', '5', '18', '1', 'free'], ['420009108', 'Temple Run', '65921024', 'USD', '0.0', '1724546', '3842', '4.5', '4.0', '1.6.2', '9+', 'Games', '40', '5', '1', '1', 'free'], ['284035177', 'Pandora - Music & Radio', '130242560', 'USD', '0.0', '1126879', '3594', '4.0', '4.5', '8.4.1', '12+', 'Music', '37', '4', '1', '1', 'free']]\n"
     ]
    }
   ],
   "source": [
    "#기존의 연속적인 데이터인 가격정보를 활용해서 비 연속적인 free_or_non_free data로 변경하는 작업\n",
    "for app in apps_data[1:]:\n",
    "    price = float(app[4])\n",
    "    \n",
    "    if price == 0.0:\n",
    "        app.append(\"free\")\n",
    "    else:\n",
    "        app.append(\"non-Free\")\n",
    "\n",
    "#컬럼을 추가하는 작업\n",
    "apps_data[0].append(\"free_or_not\")\n",
    "print(apps_data[:6])"
   ]
  },
  {
   "cell_type": "code",
   "execution_count": 59,
   "metadata": {},
   "outputs": [],
   "source": [
    "for app in apps_data:\n",
    "    app.pop()"
   ]
  },
  {
   "cell_type": "code",
   "execution_count": 62,
   "metadata": {},
   "outputs": [],
   "source": [
    "#가격을 4개의 카테고리로 나눔\n",
    "#1. 무료이면 free\n",
    "#2. 20달러 미만이면 affordable\n",
    "#3. 50달러 미만이면 expensive\n",
    "#4. 50달러 이상이면 very expensive\n",
    "\n",
    "for app in apps_data[1:]:\n",
    "    price = float(app[4])\n",
    "    \n",
    "    if price == 0.0:\n",
    "        app.append(\"free\")\n",
    "    elif price > 0.0 and price < 20.0:\n",
    "        app.append(\"affordable\")\n",
    "    elif price >= 20.0 and price < 50:\n",
    "        app.append(\"expensive\")\n",
    "    else:\n",
    "        app.append(\"very expensive\")\n",
    "\n",
    "apps_data[0].append(\"price_label\")"
   ]
  },
  {
   "cell_type": "code",
   "execution_count": 64,
   "metadata": {},
   "outputs": [
    {
     "name": "stdout",
     "output_type": "stream",
     "text": [
      "[['id', 'track_name', 'size_bytes', 'currency', 'price', 'rating_count_tot', 'rating_count_ver', 'user_rating', 'user_rating_ver', 'ver', 'cont_rating', 'prime_genre', 'sup_devices.num', 'ipadSc_urls.num', 'lang.num', 'vpp_lic', 'free_or_not', 'price_label'], ['284882215', 'Facebook', '389879808', 'USD', '0.0', '2974676', '212', '3.5', '3.5', '95.0', '4+', 'Social Networking', '37', '1', '29', '1', 'free', 'free'], ['389801252', 'Instagram', '113954816', 'USD', '0.0', '2161558', '1289', '4.5', '4.0', '10.23', '12+', 'Photo & Video', '37', '0', '29', '1', 'free', 'free'], ['529479190', 'Clash of Clans', '116476928', 'USD', '0.0', '2130805', '579', '4.5', '4.5', '9.24.12', '9+', 'Games', '38', '5', '18', '1', 'free', 'free'], ['420009108', 'Temple Run', '65921024', 'USD', '0.0', '1724546', '3842', '4.5', '4.0', '1.6.2', '9+', 'Games', '40', '5', '1', '1', 'free', 'free'], ['284035177', 'Pandora - Music & Radio', '130242560', 'USD', '0.0', '1126879', '3594', '4.0', '4.5', '8.4.1', '12+', 'Music', '37', '4', '1', '1', 'free', 'free'], ['429047995', 'Pinterest', '74778624', 'USD', '0.0', '1061624', '1814', '4.5', '4.0', '6.26', '12+', 'Social Networking', '37', '5', '27', '1', 'free', 'free'], ['282935706', 'Bible', '92774400', 'USD', '0.0', '985920', '5320', '4.5', '5.0', '7.5.1', '4+', 'Reference', '37', '5', '45', '1', 'free', 'free'], ['553834731', 'Candy Crush Saga', '222846976', 'USD', '0.0', '961794', '2453', '4.5', '4.5', '1.101.0', '4+', 'Games', '43', '5', '24', '1', 'free', 'free'], ['324684580', 'Spotify Music', '132510720', 'USD', '0.0', '878563', '8253', '4.5', '4.5', '8.4.3', '12+', 'Music', '37', '5', '18', '1', 'free', 'free'], ['343200656', 'Angry Birds', '175966208', 'USD', '0.0', '824451', '107', '4.5', '3.0', '7.4.0', '4+', 'Games', '38', '0', '10', '1', 'free', 'free'], ['512939461', 'Subway Surfers', '156038144', 'USD', '0.0', '706110', '97', '4.5', '4.0', '1.72.1', '9+', 'Games', '38', '5', '1', '1', 'free', 'free'], ['362949845', 'Fruit Ninja Classic', '104590336', 'USD', '1.99', '698516', '132', '4.5', '4.0', '2.3.9', '4+', 'Games', '38', '5', '13', '1', 'non-Free', 'affordable']]\n"
     ]
    }
   ],
   "source": [
    "print(apps_data[:13])"
   ]
  },
  {
   "cell_type": "code",
   "execution_count": 67,
   "metadata": {},
   "outputs": [
    {
     "name": "stdout",
     "output_type": "stream",
     "text": [
      "{'brand': 'Ford', 'model': 'Mustand', 'year': 1964}\n",
      "Mustand\n",
      "{'brand': 'Ford', 'model': 'Mustand', 'year': 1964, 'color': 'red'}\n"
     ]
    }
   ],
   "source": [
    "#dictionary\n",
    "thisdict = {\n",
    "    \"brand\": \"Ford\",\n",
    "    \"model\": \"Mustand\",\n",
    "    \"year\": 1964\n",
    "}\n",
    "print(thisdict)\n",
    "model = thisdict[\"model\"]\n",
    "print(model)\n",
    "thisdict[\"color\"] = \"red\"\n",
    "print(thisdict)"
   ]
  },
  {
   "cell_type": "code",
   "execution_count": 68,
   "metadata": {},
   "outputs": [
    {
     "name": "stdout",
     "output_type": "stream",
     "text": [
      "brand\n",
      "model\n",
      "year\n",
      "color\n",
      "\n",
      "\n",
      "Ford\n",
      "Mustand\n",
      "1964\n",
      "red\n",
      "\n",
      "\n",
      "Ford\n",
      "Mustand\n",
      "1964\n",
      "red\n",
      "\n",
      "\n",
      "brand Ford\n",
      "model Mustand\n",
      "year 1964\n",
      "color red\n"
     ]
    }
   ],
   "source": [
    "for key in thisdict:\n",
    "    print(key)\n",
    "print('\\n')\n",
    "for key in thisdict:\n",
    "    print(thisdict[key])\n",
    "print('\\n')    \n",
    "for value in thisdict.values():\n",
    "    print(value)\n",
    "print('\\n')\n",
    "for key, value in thisdict.items():\n",
    "    print(key, value)"
   ]
  },
  {
   "cell_type": "code",
   "execution_count": 69,
   "metadata": {},
   "outputs": [],
   "source": [
    "content_rating = {'4+':4433, '9+': 987, '12+':1155, '17+':622}"
   ]
  },
  {
   "cell_type": "code",
   "execution_count": 70,
   "metadata": {},
   "outputs": [
    {
     "name": "stdout",
     "output_type": "stream",
     "text": [
      "{'4+': 4433, '9+': 987, '12+': 1155, '17+': 622}\n"
     ]
    }
   ],
   "source": [
    "print(content_rating)"
   ]
  },
  {
   "cell_type": "code",
   "execution_count": 72,
   "metadata": {},
   "outputs": [
    {
     "name": "stdout",
     "output_type": "stream",
     "text": [
      "987\n",
      "622\n"
     ]
    }
   ],
   "source": [
    "over_9 = content_rating['9+']\n",
    "over_17 = content_rating['17+']\n",
    "print(over_9)\n",
    "print(over_17)"
   ]
  },
  {
   "cell_type": "code",
   "execution_count": 75,
   "metadata": {},
   "outputs": [
    {
     "name": "stdout",
     "output_type": "stream",
     "text": [
      "1155\n"
     ]
    }
   ],
   "source": [
    "content_ratings = {}\n",
    "content_ratings['4+'] = 4433\n",
    "content_ratings['9+'] = 987\n",
    "content_ratings['12+'] = 1155\n",
    "content_ratings['7+'] = 662\n",
    "print(content_ratings['12+'])"
   ]
  },
  {
   "cell_type": "code",
   "execution_count": 76,
   "metadata": {},
   "outputs": [
    {
     "name": "stdout",
     "output_type": "stream",
     "text": [
      "False\n",
      "True\n",
      "False\n",
      "False\n"
     ]
    }
   ],
   "source": [
    "#Dictionary에서는 in, not in 참조 전부 key값으로 이루어짐\n",
    "#연산의 기준 key\n",
    "print('10+' in content_ratings)\n",
    "print('12+' in content_ratings)\n",
    "\n",
    "print(4433 in content_ratings)\n",
    "print(987 in content_ratings)"
   ]
  },
  {
   "cell_type": "code",
   "execution_count": null,
   "metadata": {},
   "outputs": [],
   "source": [
    "for i in range(0,3):\n",
    "    content_ratings['4+'] += i\n",
    "    content_ratings['4+'] += i\n",
    "    content_ratings['4+'] += i\n",
    "    content_ratings['4+'] += i\n",
    "    print(content_ratings)"
   ]
  }
 ],
 "metadata": {
  "kernelspec": {
   "display_name": "Python 3",
   "language": "python",
   "name": "python3"
  },
  "language_info": {
   "codemirror_mode": {
    "name": "ipython",
    "version": 3
   },
   "file_extension": ".py",
   "mimetype": "text/x-python",
   "name": "python",
   "nbconvert_exporter": "python",
   "pygments_lexer": "ipython3",
   "version": "3.7.3"
  }
 },
 "nbformat": 4,
 "nbformat_minor": 2
}
