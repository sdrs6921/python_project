{
 "cells": [
  {
   "cell_type": "code",
   "execution_count": 24,
   "metadata": {},
   "outputs": [
    {
     "name": "stdout",
     "output_type": "stream",
     "text": [
      "[['Title', 'Artist', 'Nationality', 'BeginDate', 'EndDate', 'Gender', 'Date', 'Department'], ['Dress MacLeod from Tartan Sets', 'Sarah Charlesworth', '(American)', '(1947)', '(2013)', '(Female)', '1986', 'Prints & Illustrated Books'], ['Duplicate of plate from folio 11 verso (supplementary suite, plate 4) from ARDICIA', 'Pablo Palazuelo', '(Spanish)', '(1916)', '(2007)', '(Male)', '1978', 'Prints & Illustrated Books']]\n"
     ]
    }
   ],
   "source": [
    "#데이터 준비\n",
    "\"\"\"\n",
    "1. artworks.csv파일 오픈\n",
    "2. reader csv데이터 파싱\n",
    "3. 파싱한 데이터를 list형식으로 moma에 저장\n",
    "\"\"\"\n",
    "from csv import reader\n",
    "opened_file = open('artworks.csv', encoding='UTF8')\n",
    "read_file = reader(opened_file)\n",
    "moma = list(read_file)\n",
    "print(moma[:3])"
   ]
  },
  {
   "cell_type": "code",
   "execution_count": 5,
   "metadata": {},
   "outputs": [
    {
     "name": "stdout",
     "output_type": "stream",
     "text": [
      "blue is my favorite color\n",
      "red is my favorite c\n"
     ]
    }
   ],
   "source": [
    "fav_color = \"red is my favorite color\"\n",
    "fav_color = fav_color.replace('red', 'blue')\n",
    "print(fav_color)\n",
    "print(\"red is my favorite color\".replace('color', 'c'))"
   ]
  },
  {
   "cell_type": "code",
   "execution_count": 25,
   "metadata": {},
   "outputs": [
    {
     "name": "stdout",
     "output_type": "stream",
     "text": [
      "[['Dress MacLeod from Tartan Sets', 'Sarah Charlesworth', 'American', '(1947)', '(2013)', '(Female)', '1986', 'Prints & Illustrated Books'], ['Duplicate of plate from folio 11 verso (supplementary suite, plate 4) from ARDICIA', 'Pablo Palazuelo', 'Spanish', '(1916)', '(2007)', '(Male)', '1978', 'Prints & Illustrated Books']]\n"
     ]
    }
   ],
   "source": [
    "moma_header = moma[0]\n",
    "moma = moma[1:]\n",
    "for data in moma:\n",
    "    nationality = data[2]\n",
    "    nationality = nationality.replace(\"(\", \"\")\n",
    "    nationality = nationality.replace(\")\", \"\")\n",
    "    data[2] = nationality\n",
    "\n",
    "print(moma[:2])"
   ]
  },
  {
   "cell_type": "code",
   "execution_count": 26,
   "metadata": {},
   "outputs": [],
   "source": [
    "for data in moma:\n",
    "    gender = data[5]\n",
    "    gender = gender.replace(\"(\", \"\")\n",
    "    gender = gender.replace(\")\", \"\")\n",
    "    data[5] = gender"
   ]
  },
  {
   "cell_type": "code",
   "execution_count": 14,
   "metadata": {},
   "outputs": [
    {
     "name": "stdout",
     "output_type": "stream",
     "text": [
      "[['Dress MacLeod from Tartan Sets', 'Sarah Charlesworth', 'American', '(1947)', '(2013)', 'Female', '1986', 'Prints & Illustrated Books'], ['Duplicate of plate from folio 11 verso (supplementary suite, plate 4) from ARDICIA', 'Pablo Palazuelo', 'Spanish', '(1916)', '(2007)', 'Male', '1978', 'Prints & Illustrated Books']]\n"
     ]
    }
   ],
   "source": [
    "print (moma[:2])"
   ]
  },
  {
   "cell_type": "code",
   "execution_count": 27,
   "metadata": {},
   "outputs": [],
   "source": [
    "for data in moma:\n",
    "    gender = data[5]\n",
    "    gender = gender.title()\n",
    "    if not gender:\n",
    "        gender = \"Gender Unknown/Other\"\n",
    "    data[5] = gender"
   ]
  },
  {
   "cell_type": "code",
   "execution_count": 28,
   "metadata": {},
   "outputs": [
    {
     "name": "stdout",
     "output_type": "stream",
     "text": [
      "['Untitled', 'Unknown', '', '', '', 'Gender Unknown/Other', 'c. 1925', 'Photography']\n"
     ]
    }
   ],
   "source": [
    "print(moma[31])"
   ]
  },
  {
   "cell_type": "code",
   "execution_count": 29,
   "metadata": {},
   "outputs": [],
   "source": [
    "for data in moma:\n",
    "    nationality = data[2]\n",
    "    nationality = nationality.title()\n",
    "    if not nationality:\n",
    "        nationality = \"Nationality Unknown\"\n",
    "    data[2] = nationality"
   ]
  },
  {
   "cell_type": "code",
   "execution_count": 30,
   "metadata": {},
   "outputs": [
    {
     "name": "stdout",
     "output_type": "stream",
     "text": [
      "['Untitled', 'Unknown', 'Nationality Unknown', '', '', 'Gender Unknown/Other', 'c. 1925', 'Photography']\n"
     ]
    }
   ],
   "source": [
    "print(moma[31])"
   ]
  },
  {
   "cell_type": "code",
   "execution_count": 35,
   "metadata": {},
   "outputs": [],
   "source": [
    "def clean_and_convert(date):\n",
    "    date = date.replace(\"(\", \"\")\n",
    "    date = date.replace(\")\", \"\")\n",
    "    \n",
    "    if not date:\n",
    "        date = 0\n",
    "    else:\n",
    "        date = int(date)\n",
    "    return date"
   ]
  },
  {
   "cell_type": "code",
   "execution_count": 37,
   "metadata": {},
   "outputs": [
    {
     "name": "stdout",
     "output_type": "stream",
     "text": [
      "<class 'int'>\n"
     ]
    }
   ],
   "source": [
    "str = '(1924)'\n",
    "print(type(clean_and_convert(str)))"
   ]
  },
  {
   "cell_type": "code",
   "execution_count": 38,
   "metadata": {},
   "outputs": [
    {
     "name": "stdout",
     "output_type": "stream",
     "text": [
      "0\n"
     ]
    }
   ],
   "source": [
    "str = '()'\n",
    "print(clean_and_convert(str))"
   ]
  },
  {
   "cell_type": "code",
   "execution_count": 40,
   "metadata": {},
   "outputs": [],
   "source": [
    "for data in moma:\n",
    "    begin_date = clean_and_convert(data[3])\n",
    "    end_date = clean_and_convert(data[4])\n",
    "    data[3] = begin_date\n",
    "    data[4] = end_date"
   ]
  },
  {
   "cell_type": "code",
   "execution_count": 41,
   "metadata": {},
   "outputs": [
    {
     "name": "stdout",
     "output_type": "stream",
     "text": [
      "['Untitled', 'Unknown', 'Nationality Unknown', 0, 0, 'Gender Unknown/Other', 'c. 1925', 'Photography']\n"
     ]
    }
   ],
   "source": [
    "print(moma[31])"
   ]
  },
  {
   "cell_type": "code",
   "execution_count": 93,
   "metadata": {},
   "outputs": [],
   "source": [
    "test_data = [\"1912\", \"1929\", \"1913-1923\",\n",
    "            \"(1051)\", \"1994\", \"1934\",\n",
    "            \"c. 1915\", \"1995\", \"c. 1912\",\n",
    "            \"(1988)\", \"2002\", \"1957-1959\",\n",
    "            \"c. 1955\", \"c. 1970's\",\n",
    "            \"C. 1990-1999\"]\n",
    "\n",
    "bad_chars = [\"(\", \")\", \"c\", \"C\", \"s\", \"'\", \" \",\".\"]"
   ]
  },
  {
   "cell_type": "code",
   "execution_count": 77,
   "metadata": {},
   "outputs": [],
   "source": [
    "def strip_characters(str):\n",
    "    \"\"\"\n",
    "    return : eliminated string\n",
    "    param : date string\n",
    "    \"\"\"\n",
    "    for char in bad_chars:\n",
    "        str = str.replace(char, \"\")\n",
    "    return str"
   ]
  },
  {
   "cell_type": "code",
   "execution_count": 96,
   "metadata": {},
   "outputs": [
    {
     "name": "stdout",
     "output_type": "stream",
     "text": [
      "['1912', '1929', '1913-1923', '(1051)', '1994', '1934', 'c. 1915', '1995', 'c. 1912', '(1988)', '2002', '1957-1959', 'c. 1955', \"c. 1970's\", 'C. 1990-1999']\n",
      "1912\n",
      "1929\n",
      "1918\n",
      "1051\n",
      "1994\n",
      "1934\n",
      "1915\n",
      "1995\n",
      "1912\n",
      "1988\n",
      "2002\n",
      "1958\n",
      "1955\n",
      "1970\n",
      "1994\n"
     ]
    }
   ],
   "source": [
    "print(test_data)\n",
    "for data in test_data:\n",
    "    data = strip_characters(data)\n",
    "    data = process_range_date(data)\n",
    "    print(data)"
   ]
  },
  {
   "cell_type": "code",
   "execution_count": 74,
   "metadata": {},
   "outputs": [
    {
     "name": "stdout",
     "output_type": "stream",
     "text": [
      "['1912', '1929', '1913-1923', '(1051)', '1994', '1934', 'c. 1915', '1995', 'c. 1912', '(1988)', '2002', '1957-1959', 'c. 1955', \"c. 1970's\", 'C. 1990-1999']\n"
     ]
    }
   ],
   "source": [
    "print(test_data)"
   ]
  },
  {
   "cell_type": "code",
   "execution_count": 89,
   "metadata": {},
   "outputs": [],
   "source": [
    "def process_range_date(str):\n",
    "    avg_year = 0\n",
    "    if '-' in str:\n",
    "        str_list = str.split('-')\n",
    "        for year in str_list:\n",
    "            avg_year += int(year)\n",
    "        return round(avg_year / 2)\n",
    "    else:\n",
    "        return str"
   ]
  },
  {
   "cell_type": "code",
   "execution_count": 101,
   "metadata": {},
   "outputs": [],
   "source": [
    "def process_range_date(string):\n",
    "    result = 0\n",
    "    if \"-\" in string:\n",
    "        begin, end = string.split('-')\n",
    "        begin = int(begin)\n",
    "        end = int(end)\n",
    "        result = round((begin + end) / 2)\n",
    "    else:\n",
    "        result = int(string)\n",
    "    return result"
   ]
  },
  {
   "cell_type": "code",
   "execution_count": 107,
   "metadata": {},
   "outputs": [
    {
     "name": "stdout",
     "output_type": "stream",
     "text": [
      "1986\n",
      "1978\n",
      "1900\n",
      "1934\n",
      "1903\n",
      "1957\n",
      "['Headpiece (page 129) from LIVRET DE FOLASTRIES, À JANOT PARISIEN', 'Aristide Maillol', 'French', 1861, 1944, 'Male', 1934, 'Prints & Illustrated Books']\n"
     ]
    }
   ],
   "source": [
    "for data in moma:\n",
    "    date = strip_characters(data[6])\n",
    "    data[6] = process_range_date(date)\n",
    "\n",
    "for data in moma[:6]:\n",
    "    print(data[6])\n",
    "\n",
    "print(moma[3])"
   ]
  },
  {
   "cell_type": "code",
   "execution_count": 108,
   "metadata": {},
   "outputs": [
    {
     "name": "stdout",
     "output_type": "stream",
     "text": [
      "<class 'str'>\n"
     ]
    }
   ],
   "source": [
    "print(type('2019'))"
   ]
  },
  {
   "cell_type": "code",
   "execution_count": null,
   "metadata": {},
   "outputs": [],
   "source": []
  }
 ],
 "metadata": {
  "kernelspec": {
   "display_name": "Python 3",
   "language": "python",
   "name": "python3"
  },
  "language_info": {
   "codemirror_mode": {
    "name": "ipython",
    "version": 3
   },
   "file_extension": ".py",
   "mimetype": "text/x-python",
   "name": "python",
   "nbconvert_exporter": "python",
   "pygments_lexer": "ipython3",
   "version": "3.7.3"
  }
 },
 "nbformat": 4,
 "nbformat_minor": 2
}
