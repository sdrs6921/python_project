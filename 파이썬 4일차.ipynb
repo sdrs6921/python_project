{
 "cells": [
  {
   "cell_type": "code",
   "execution_count": 2,
   "metadata": {},
   "outputs": [
    {
     "name": "stdout",
     "output_type": "stream",
     "text": [
      "[['id', 'track_name', 'size_bytes', 'currency', 'price', 'rating_count_tot', 'rating_count_ver', 'user_rating', 'user_rating_ver', 'ver', 'cont_rating', 'prime_genre', 'sup_devices.num', 'ipadSc_urls.num', 'lang.num', 'vpp_lic'], ['284882215', 'Facebook', '389879808', 'USD', '0.0', '2974676', '212', '3.5', '3.5', '95.0', '4+', 'Social Networking', '37', '1', '29', '1'], ['389801252', 'Instagram', '113954816', 'USD', '0.0', '2161558', '1289', '4.5', '4.0', '10.23', '12+', 'Photo & Video', '37', '0', '29', '1'], ['529479190', 'Clash of Clans', '116476928', 'USD', '0.0', '2130805', '579', '4.5', '4.5', '9.24.12', '9+', 'Games', '38', '5', '18', '1'], ['420009108', 'Temple Run', '65921024', 'USD', '0.0', '1724546', '3842', '4.5', '4.0', '1.6.2', '9+', 'Games', '40', '5', '1', '1']]\n"
     ]
    }
   ],
   "source": [
    "from csv import reader\n",
    "\n",
    "opened_file = open('AppleStore.csv', encoding='UTF8')\n",
    "read_file = reader(opened_file)\n",
    "ios = list(read_file)\n",
    "\n",
    "print(ios[:5])"
   ]
  },
  {
   "cell_type": "code",
   "execution_count": 3,
   "metadata": {},
   "outputs": [
    {
     "name": "stdout",
     "output_type": "stream",
     "text": [
      "[['App', 'Category', 'Rating', 'Reviews', 'Size', 'Installs', 'Type', 'Price', 'Content Rating', 'Genres', 'Last Updated', 'Current Ver', 'Android Ver'], ['Photo Editor & Candy Camera & Grid & ScrapBook', 'ART_AND_DESIGN', '4.1', '159', '19M', '10,000+', 'Free', '0', 'Everyone', 'Art & Design', 'January 7, 2018', '1.0.0', '4.0.3 and up'], ['Coloring book moana', 'ART_AND_DESIGN', '3.9', '967', '14M', '500,000+', 'Free', '0', 'Everyone', 'Art & Design;Pretend Play', 'January 15, 2018', '2.0.0', '4.0.3 and up'], ['U Launcher Lite – FREE Live Cool Themes, Hide Apps', 'ART_AND_DESIGN', '4.7', '87510', '8.7M', '5,000,000+', 'Free', '0', 'Everyone', 'Art & Design', 'August 1, 2018', '1.2.4', '4.0.3 and up'], ['Sketch - Draw & Paint', 'ART_AND_DESIGN', '4.5', '215644', '25M', '50,000,000+', 'Free', '0', 'Teen', 'Art & Design', 'June 8, 2018', 'Varies with device', '4.2 and up']]\n"
     ]
    }
   ],
   "source": [
    "opened_file = open('googleplaystore.csv', encoding='UTF8')\n",
    "read_file = reader(opened_file)\n",
    "android = list(read_file)\n",
    "\n",
    "print(android[:5])\n"
   ]
  },
  {
   "cell_type": "code",
   "execution_count": 4,
   "metadata": {},
   "outputs": [],
   "source": [
    "ios_header = ios[0]\n",
    "ios = ios[1:]"
   ]
  },
  {
   "cell_type": "code",
   "execution_count": 5,
   "metadata": {},
   "outputs": [],
   "source": [
    "android_header = android[0]\n",
    "android = android[1:]"
   ]
  },
  {
   "cell_type": "code",
   "execution_count": 9,
   "metadata": {},
   "outputs": [
    {
     "name": "stdout",
     "output_type": "stream",
     "text": [
      "{'Art & Design': 58, 'Art & Design;Pretend Play': 2, 'Art & Design;Creativity': 7, 'Art & Design;Action & Adventure': 2, 'Auto & Vehicles': 85, 'Beauty': 53, 'Books & Reference': 231, 'Business': 460, 'Comics': 59, 'Comics;Creativity': 1, 'Communication': 387, 'Dating': 234, 'Education;Education': 50, 'Education': 549, 'Education;Creativity': 7, 'Education;Music & Video': 5, 'Education;Action & Adventure': 6, 'Education;Pretend Play': 23, 'Education;Brain Games': 5, 'Entertainment': 623, 'Entertainment;Music & Video': 27, 'Entertainment;Brain Games': 8, 'Entertainment;Creativity': 3, 'Events': 64, 'Finance': 366, 'Food & Drink': 127, 'Health & Fitness': 341, 'House & Home': 88, 'Libraries & Demo': 85, 'Lifestyle': 381, 'Lifestyle;Pretend Play': 1, 'Adventure;Action & Adventure': 13, 'Arcade': 220, 'Casual': 193, 'Card': 48, 'Casual;Pretend Play': 31, 'Action': 365, 'Strategy': 107, 'Puzzle': 140, 'Sports': 398, 'Music': 22, 'Word': 29, 'Racing': 98, 'Casual;Creativity': 7, 'Casual;Action & Adventure': 21, 'Simulation': 200, 'Adventure': 75, 'Board': 44, 'Trivia': 38, 'Role Playing': 109, 'Simulation;Education': 3, 'Action;Action & Adventure': 17, 'Casual;Brain Games': 13, 'Simulation;Action & Adventure': 11, 'Educational;Creativity': 5, 'Puzzle;Brain Games': 19, 'Educational;Education': 41, 'Card;Brain Games': 1, 'Educational;Brain Games': 6, 'Educational;Pretend Play': 19, 'Entertainment;Education': 1, 'Casual;Education': 3, 'Music;Music & Video': 3, 'Racing;Action & Adventure': 20, 'Arcade;Pretend Play': 1, 'Role Playing;Action & Adventure': 7, 'Simulation;Pretend Play': 4, 'Puzzle;Creativity': 2, 'Sports;Action & Adventure': 4, 'Educational;Action & Adventure': 4, 'Arcade;Action & Adventure': 16, 'Entertainment;Action & Adventure': 3, 'Puzzle;Action & Adventure': 5, 'Strategy;Action & Adventure': 2, 'Music & Audio;Music & Video': 1, 'Health & Fitness;Education': 1, 'Adventure;Education': 2, 'Board;Brain Games': 15, 'Board;Action & Adventure': 3, 'Board;Pretend Play': 1, 'Casual;Music & Video': 2, 'Role Playing;Pretend Play': 5, 'Entertainment;Pretend Play': 2, 'Video Players & Editors;Creativity': 2, 'Card;Action & Adventure': 2, 'Medical': 463, 'Social': 295, 'Shopping': 260, 'Photography': 335, 'Travel & Local': 257, 'Travel & Local;Action & Adventure': 1, 'Tools': 842, 'Tools;Education': 1, 'Personalization': 392, 'Productivity': 424, 'Parenting': 46, 'Parenting;Music & Video': 6, 'Parenting;Education': 7, 'Parenting;Brain Games': 1, 'Weather': 82, 'Video Players & Editors': 173, 'Video Players & Editors;Music & Video': 3, 'News & Magazines': 283, 'Maps & Navigation': 137, 'Health & Fitness;Action & Adventure': 1, 'Educational': 37, 'Casino': 39, 'Adventure;Brain Games': 1, 'Trivia;Education': 1, 'Lifestyle;Education': 1, 'Books & Reference;Creativity': 1, 'Books & Reference;Education': 2, 'Puzzle;Education': 1, 'Role Playing;Education': 1, 'Role Playing;Brain Games': 1, 'Strategy;Education': 1, 'Racing;Pretend Play': 1, 'Communication;Creativity': 1, 'February 11, 2018': 1, 'Strategy;Creativity': 1}\n"
     ]
    }
   ],
   "source": [
    "freq_genre = {}\n",
    "\n",
    "for app in android:\n",
    "    genre = app[9]\n",
    "    if genre in freq_genre:\n",
    "        freq_genre[genre] += 1\n",
    "    else:\n",
    "        freq_genre[genre] = 1\n",
    "\n",
    "print(freq_genre)\n",
    "value_key_freq = []\n",
    "\n",
    "for key, value in freq_genre.items():\n",
    "    value_key_tuple = (value, key)\n",
    "    value_key_freq.append(value_key_tuple)\n",
    "    \n",
    "sorted_freq = sorted(value_key_freq, reverse = True)"
   ]
  },
  {
   "cell_type": "code",
   "execution_count": 12,
   "metadata": {},
   "outputs": [
    {
     "name": "stdout",
     "output_type": "stream",
     "text": [
      "Tools :  842\n",
      "Entertainment :  623\n",
      "Education :  549\n",
      "Medical :  463\n",
      "Business :  460\n",
      "Productivity :  424\n",
      "Sports :  398\n",
      "Personalization :  392\n",
      "Communication :  387\n",
      "Lifestyle :  381\n",
      "Finance :  366\n",
      "Action :  365\n",
      "Health & Fitness :  341\n",
      "Photography :  335\n",
      "Social :  295\n",
      "News & Magazines :  283\n",
      "Shopping :  260\n",
      "Travel & Local :  257\n",
      "Dating :  234\n",
      "Books & Reference :  231\n",
      "Arcade :  220\n",
      "Simulation :  200\n",
      "Casual :  193\n",
      "Video Players & Editors :  173\n",
      "Puzzle :  140\n",
      "Maps & Navigation :  137\n",
      "Food & Drink :  127\n",
      "Role Playing :  109\n",
      "Strategy :  107\n",
      "Racing :  98\n",
      "House & Home :  88\n",
      "Libraries & Demo :  85\n",
      "Auto & Vehicles :  85\n",
      "Weather :  82\n",
      "Adventure :  75\n",
      "Events :  64\n",
      "Comics :  59\n",
      "Art & Design :  58\n",
      "Beauty :  53\n",
      "Education;Education :  50\n",
      "Card :  48\n",
      "Parenting :  46\n",
      "Board :  44\n",
      "Educational;Education :  41\n",
      "Casino :  39\n",
      "Trivia :  38\n",
      "Educational :  37\n",
      "Casual;Pretend Play :  31\n",
      "Word :  29\n",
      "Entertainment;Music & Video :  27\n",
      "Education;Pretend Play :  23\n",
      "Music :  22\n",
      "Casual;Action & Adventure :  21\n",
      "Racing;Action & Adventure :  20\n",
      "Puzzle;Brain Games :  19\n",
      "Educational;Pretend Play :  19\n",
      "Action;Action & Adventure :  17\n",
      "Arcade;Action & Adventure :  16\n",
      "Board;Brain Games :  15\n",
      "Casual;Brain Games :  13\n",
      "Adventure;Action & Adventure :  13\n",
      "Simulation;Action & Adventure :  11\n",
      "Entertainment;Brain Games :  8\n",
      "Role Playing;Action & Adventure :  7\n",
      "Parenting;Education :  7\n",
      "Education;Creativity :  7\n",
      "Casual;Creativity :  7\n",
      "Art & Design;Creativity :  7\n",
      "Parenting;Music & Video :  6\n",
      "Educational;Brain Games :  6\n",
      "Education;Action & Adventure :  6\n",
      "Role Playing;Pretend Play :  5\n",
      "Puzzle;Action & Adventure :  5\n",
      "Educational;Creativity :  5\n",
      "Education;Music & Video :  5\n",
      "Education;Brain Games :  5\n",
      "Sports;Action & Adventure :  4\n",
      "Simulation;Pretend Play :  4\n",
      "Educational;Action & Adventure :  4\n",
      "Video Players & Editors;Music & Video :  3\n",
      "Simulation;Education :  3\n",
      "Music;Music & Video :  3\n",
      "Entertainment;Creativity :  3\n",
      "Entertainment;Action & Adventure :  3\n",
      "Casual;Education :  3\n",
      "Board;Action & Adventure :  3\n",
      "Video Players & Editors;Creativity :  2\n",
      "Strategy;Action & Adventure :  2\n",
      "Puzzle;Creativity :  2\n",
      "Entertainment;Pretend Play :  2\n",
      "Casual;Music & Video :  2\n",
      "Card;Action & Adventure :  2\n",
      "Books & Reference;Education :  2\n",
      "Art & Design;Pretend Play :  2\n",
      "Art & Design;Action & Adventure :  2\n",
      "Adventure;Education :  2\n",
      "Trivia;Education :  1\n",
      "Travel & Local;Action & Adventure :  1\n",
      "Tools;Education :  1\n",
      "Strategy;Education :  1\n",
      "Strategy;Creativity :  1\n",
      "Role Playing;Education :  1\n",
      "Role Playing;Brain Games :  1\n",
      "Racing;Pretend Play :  1\n",
      "Puzzle;Education :  1\n",
      "Parenting;Brain Games :  1\n",
      "Music & Audio;Music & Video :  1\n",
      "Lifestyle;Pretend Play :  1\n",
      "Lifestyle;Education :  1\n",
      "Health & Fitness;Education :  1\n",
      "Health & Fitness;Action & Adventure :  1\n",
      "February 11, 2018 :  1\n",
      "Entertainment;Education :  1\n",
      "Communication;Creativity :  1\n",
      "Comics;Creativity :  1\n",
      "Card;Brain Games :  1\n",
      "Books & Reference;Creativity :  1\n",
      "Board;Pretend Play :  1\n",
      "Arcade;Pretend Play :  1\n",
      "Adventure;Brain Games :  1\n"
     ]
    }
   ],
   "source": [
    "for genre in sorted_freq:\n",
    "    print(genre[1] ,': ',genre[0])"
   ]
  },
  {
   "cell_type": "code",
   "execution_count": 13,
   "metadata": {},
   "outputs": [
    {
     "name": "stdout",
     "output_type": "stream",
     "text": [
      "['App', 'Category', 'Rating', 'Reviews', 'Size', 'Installs', 'Type', 'Price', 'Content Rating', 'Genres', 'Last Updated', 'Current Ver', 'Android Ver']\n",
      "['id', 'track_name', 'size_bytes', 'currency', 'price', 'rating_count_tot', 'rating_count_ver', 'user_rating', 'user_rating_ver', 'ver', 'cont_rating', 'prime_genre', 'sup_devices.num', 'ipadSc_urls.num', 'lang.num', 'vpp_lic']\n"
     ]
    }
   ],
   "source": [
    "print(android_header)\n",
    "print(ios_header)"
   ]
  },
  {
   "cell_type": "code",
   "execution_count": 14,
   "metadata": {},
   "outputs": [
    {
     "name": "stdout",
     "output_type": "stream",
     "text": [
      "['Coloring book moana', 'ART_AND_DESIGN', '3.9', '967', '14M', '500,000+', 'Free', '0', 'Everyone', 'Art & Design;Pretend Play', 'January 15, 2018', '2.0.0', '4.0.3 and up']\n",
      "['389801252', 'Instagram', '113954816', 'USD', '0.0', '2161558', '1289', '4.5', '4.0', '10.23', '12+', 'Photo & Video', '37', '0', '29', '1']\n"
     ]
    }
   ],
   "source": [
    "print(android[1])\n",
    "print(ios[1])"
   ]
  },
  {
   "cell_type": "code",
   "execution_count": 15,
   "metadata": {},
   "outputs": [],
   "source": [
    "free_android_app = []\n",
    "\n",
    "for app in android:\n",
    "    price = app[7]\n",
    "    if price == '0':\n",
    "        free_android_app.append(app)\n",
    "\n",
    "free_ios_app = []\n",
    "\n",
    "for app in ios:\n",
    "    price = float(app[4])\n",
    "    if price == 0.0:\n",
    "        free_ios_app.append(app)"
   ]
  },
  {
   "cell_type": "code",
   "execution_count": 21,
   "metadata": {},
   "outputs": [
    {
     "name": "stdout",
     "output_type": "stream",
     "text": [
      "10040\n",
      "4056\n"
     ]
    }
   ],
   "source": [
    "print(len(free_android_app))\n",
    "print(len(free_ios_app))"
   ]
  },
  {
   "cell_type": "code",
   "execution_count": 36,
   "metadata": {},
   "outputs": [
    {
     "name": "stdout",
     "output_type": "stream",
     "text": [
      "[(3.713461426877513, 'Facebook'), (2.6983988356911826, 'Instagram'), (2.6600080733826945, 'Clash of Clans'), (2.152851285274735, 'Temple Run'), (1.406748734738945, 'Pandora - Music & Radio')]\n"
     ]
    }
   ],
   "source": [
    "total_review = 0\n",
    "percent_of_review = {}\n",
    "\n",
    "for app in free_ios_app:\n",
    "    review = float(app[5])\n",
    "    name = app[1]\n",
    "    total_review += review\n",
    "    \n",
    "    percent_of_review[name] = review\n",
    "\n",
    "for app in percent_of_review:\n",
    "    percent_of_review[app] /= total_review\n",
    "    percent_of_review[app] *= 100\n",
    "\n",
    "ios_value_key_freq = []   \n",
    "\n",
    "for key, value in percent_of_review.items():\n",
    "    ios_value_key_tuple = (value, key)\n",
    "    ios_value_key_freq.append(ios_value_key_tuple)\n",
    "ios_sorted_freq = sorted(ios_value_key_freq, reverse=True)\n",
    "\n",
    "print(ios_sorted_freq[:5])"
   ]
  },
  {
   "cell_type": "code",
   "execution_count": 53,
   "metadata": {
    "scrolled": false
   },
   "outputs": [
    {
     "name": "stdout",
     "output_type": "stream",
     "text": [
      "[(1000000000.0, 'YouTube'), (1000000000.0, 'WhatsApp Messenger'), (1000000000.0, 'Subway Surfers'), (1000000000.0, 'Skype - free IM & video calls'), (1000000000.0, 'Messenger – Text and Video Chat for Free')]\n"
     ]
    }
   ],
   "source": [
    "total_install = 0\n",
    "percent_of_install = {}\n",
    "\n",
    "unexpected_value = ['Free', 'Paid', 'Photography', '0']\n",
    "for app in android:\n",
    "    name = app[0]\n",
    "    install = app[5]\n",
    "    if install in unexpected_value:\n",
    "        android.remove(app)\n",
    "        continue\n",
    "    install = install[:-1]\n",
    "    install = float(install.replace(\",\", \"\"))\n",
    "    \n",
    "    total_install += install\n",
    "    percent_of_install[name] = install\n",
    "\n",
    "for app in percent_of_review:\n",
    "    percent_of_review[app] /= total_install\n",
    "    percent_of_review[app] *= 100\n",
    "    \n",
    "android_install_value_key_freq = []\n",
    "\n",
    "for key, value in percent_of_install.items():\n",
    "    android_value_key_tuple = (value, key)\n",
    "    android_install_value_key_freq.append(android_value_key_tuple)\n",
    "\n",
    "android_sorted_install_freq = sorted(android_install_value_key_freq, reverse = True)\n",
    "\n",
    "print(android_sorted_install_freq[:5])"
   ]
  },
  {
   "cell_type": "code",
   "execution_count": 50,
   "metadata": {},
   "outputs": [],
   "source": [
    "def sorted_tuple_list(dataset, nameindex , columnindex, unexpect_data = False):\n",
    "    \"\"\"\n",
    "    return : sorted_tuple_list\n",
    "    parameter : dataset, data name index,column index\n",
    "    \"\"\"\n",
    "    total_column = 0\n",
    "    percentag_column = {}\n",
    "    for data in dataset:\n",
    "        name = data[nameindex]\n",
    "        column = data[columnindex]\n",
    "        \n",
    "        if unexpect_data:\n",
    "            column = column[:-1]\n",
    "            column = float(cloumn.replace(\",\",\"\"))\n",
    "        else:\n",
    "            float(column)\n",
    "        total_column += column\n",
    "        percentag_column[name] = column\n",
    "    \n",
    "    column_value_key_freq = []\n",
    "    \n",
    "    for value, key in percentag_column.items():\n",
    "        column_value_key_tup = (value, key)\n",
    "        column_value_key_freq.append(column_value_key_tup)\n",
    "    \n",
    "    sorted_value_key_freq = sorted(column_value_key_freq, reverse = True)\n",
    "    return sorted_value_key_freq"
   ]
  },
  {
   "cell_type": "code",
   "execution_count": 51,
   "metadata": {},
   "outputs": [
    {
     "ename": "TypeError",
     "evalue": "unsupported operand type(s) for +=: 'int' and 'str'",
     "output_type": "error",
     "traceback": [
      "\u001b[1;31m---------------------------------------------------------------------------\u001b[0m",
      "\u001b[1;31mTypeError\u001b[0m                                 Traceback (most recent call last)",
      "\u001b[1;32m<ipython-input-51-361419c1b7f5>\u001b[0m in \u001b[0;36m<module>\u001b[1;34m\u001b[0m\n\u001b[1;32m----> 1\u001b[1;33m \u001b[0msorted_ios_review\u001b[0m \u001b[1;33m=\u001b[0m \u001b[0msorted_tuple_list\u001b[0m\u001b[1;33m(\u001b[0m\u001b[0mios\u001b[0m\u001b[1;33m,\u001b[0m \u001b[1;36m1\u001b[0m\u001b[1;33m,\u001b[0m \u001b[1;36m5\u001b[0m\u001b[1;33m)\u001b[0m\u001b[1;33m\u001b[0m\u001b[1;33m\u001b[0m\u001b[0m\n\u001b[0m",
      "\u001b[1;32m<ipython-input-50-62b4cb642b44>\u001b[0m in \u001b[0;36msorted_tuple_list\u001b[1;34m(dataset, nameindex, columnindex, unexpect_data)\u001b[0m\n\u001b[0;32m     15\u001b[0m         \u001b[1;32melse\u001b[0m\u001b[1;33m:\u001b[0m\u001b[1;33m\u001b[0m\u001b[1;33m\u001b[0m\u001b[0m\n\u001b[0;32m     16\u001b[0m             \u001b[0mfloat\u001b[0m\u001b[1;33m(\u001b[0m\u001b[0mcolumn\u001b[0m\u001b[1;33m)\u001b[0m\u001b[1;33m\u001b[0m\u001b[1;33m\u001b[0m\u001b[0m\n\u001b[1;32m---> 17\u001b[1;33m         \u001b[0mtotal_column\u001b[0m \u001b[1;33m+=\u001b[0m \u001b[0mcolumn\u001b[0m\u001b[1;33m\u001b[0m\u001b[1;33m\u001b[0m\u001b[0m\n\u001b[0m\u001b[0;32m     18\u001b[0m         \u001b[0mpercentag_column\u001b[0m\u001b[1;33m[\u001b[0m\u001b[0mname\u001b[0m\u001b[1;33m]\u001b[0m \u001b[1;33m=\u001b[0m \u001b[0mcolumn\u001b[0m\u001b[1;33m\u001b[0m\u001b[1;33m\u001b[0m\u001b[0m\n\u001b[0;32m     19\u001b[0m \u001b[1;33m\u001b[0m\u001b[0m\n",
      "\u001b[1;31mTypeError\u001b[0m: unsupported operand type(s) for +=: 'int' and 'str'"
     ]
    }
   ],
   "source": [
    "sorted_ios_review = sorted_tuple_list(ios, 1, 5)"
   ]
  },
  {
   "cell_type": "code",
   "execution_count": 65,
   "metadata": {},
   "outputs": [
    {
     "name": "stdout",
     "output_type": "stream",
     "text": [
      "Games : 56.98711803275286\n",
      "Social Networking : 8.188700595524834\n",
      "Photo & Video : 5.398138099698898\n",
      "Entertainment : 4.3436868309864405\n",
      "Music : 4.2894580748691356\n",
      "Shopping : 2.447530776750873\n",
      "Health & Fitness : 1.9230155563860787\n",
      "Utilities : 1.8344900945576688\n",
      "Sports : 1.7233167798346234\n",
      "Weather : 1.7211225838558712\n",
      "Reference : 1.5457377834717188\n",
      "Productivity : 1.5444898075663185\n",
      "Finance : 1.238229192025158\n",
      "Travel : 1.2334107980069846\n",
      "Education : 1.0931870182528762\n",
      "News : 1.0519747154908607\n",
      "Lifestyle : 0.956236211577093\n",
      "Food & Drink : 0.9463634073721083\n",
      "Book : 0.6186522629699048\n",
      "Navigation : 0.5876500843251284\n",
      "Business : 0.29412679799461267\n",
      "Catalogs : 0.018671142107997054\n",
      "Medical : 0.014693353621958546\n"
     ]
    }
   ],
   "source": [
    "ios_rating_table = {}\n",
    "ios_rating_total = 0\n",
    "\n",
    "for app in ios:\n",
    "    genre = app[11]\n",
    "    \n",
    "    if genre in ios_rating_table:\n",
    "        ios_rating_table[genre] += float(app[5])\n",
    "    else:\n",
    "        ios_rating_table[genre] = float(app[5])    \n",
    "    ios_rating_total += float(app[5])\n",
    "    \n",
    "for genre in ios_rating_table:\n",
    "    ios_rating_table[genre] /= ios_rating_total\n",
    "    ios_rating_table[genre] *= 100\n",
    "\n",
    "value_key_freq = []\n",
    "\n",
    "for genre, freq in ios_rating_table.items():\n",
    "    genre_freq_tup = (freq, genre)\n",
    "    value_key_freq.append(genre_freq_tup)\n",
    "\n",
    "sorted_ios_percentage = sorted(value_key_freq, reverse = True)\n",
    "\n",
    "for entry in sorted_ios_percentage:\n",
    "    print(entry[1], ':', entry[0])"
   ]
  },
  {
   "cell_type": "code",
   "execution_count": 103,
   "metadata": {},
   "outputs": [
    {
     "name": "stdout",
     "output_type": "stream",
     "text": [
      "Communication 19.47539674627723\n",
      "Productivity 8.456601451225037\n",
      "Social 8.393234934898068\n",
      "Tools 6.826067853515265\n",
      "Arcade 6.399158528141638\n",
      "Photography 6.01804034263985\n",
      "Casual 5.764262259025646\n",
      "Action 5.5728973604328615\n",
      "News & Magazines 4.471851231622802\n",
      "Travel & Local 4.097504300377333\n",
      "Video Players & Editors 3.7027236100138423\n",
      "Entertainment 3.02100516505422\n",
      "Shopping 1.9374707762290575\n",
      "Sports 1.7103834470003563\n",
      "Personalization 1.3872499856541698\n",
      "Racing 1.1932269586037678\n",
      "Strategy 1.1776813037436822\n",
      "Books & Reference 1.146232905948926\n",
      "Puzzle 0.9953126749798338\n",
      "Health & Fitness 0.944365619119033\n",
      "Business 0.5976820042152861\n",
      "Adventure;Action & Adventure 0.5405544593049644\n",
      "Finance 0.5229557826052548\n",
      "Simulation 0.4859399482879245\n",
      "Education;Education 0.46411598439301494\n",
      "Maps & Navigation 0.43206290948885695\n",
      "Lifestyle 0.3147603243722374\n",
      "Education 0.2988127950256687\n",
      "Casual;Action & Adventure 0.29827045214030956\n",
      "Weather 0.25418588114347973\n",
      "Adventure 0.24260990873967828\n",
      "Role Playing 0.21012554755511603\n",
      "Music 0.19096459061958268\n",
      "Entertainment;Music & Video 0.1892223963930196\n",
      "Food & Drink 0.16339148181990848\n",
      "Word 0.1605721152402897\n",
      "Dating 0.15767189247513524\n",
      "Racing;Action & Adventure 0.12662151909956604\n",
      "Casual;Pretend Play 0.12608522989919616\n",
      "Educational;Pretend Play 0.11761681181295507\n",
      "House & Home 0.10064368276098316\n",
      "Board 0.09969801758726177\n",
      "Card 0.09713223467001718\n",
      "Puzzle;Brain Games 0.09264858254665786\n",
      "Puzzle;Action & Adventure 0.09252330920730562\n",
      "Casino 0.07770568035886573\n",
      "Trivia 0.07671880681843425\n",
      "Art & Design 0.07309287738803134\n",
      "Educational;Action & Adventure 0.06028033781688093\n",
      "Action;Action & Adventure 0.05250772364978494\n",
      "Simulation;Action & Adventure 0.04414393862888855\n",
      "Arcade;Action & Adventure 0.038900355163969745\n",
      "Libraries & Demo 0.03757956195825658\n",
      "Educational;Education 0.03752894556376116\n",
      "Comics 0.03342778873782694\n",
      "Medical 0.03177017608729593\n",
      "Auto & Vehicles 0.03169428072599865\n",
      "Role Playing;Action & Adventure 0.03048317924238115\n",
      "Casual;Creativity 0.025054667870450263\n",
      "Entertainment;Brain Games 0.019805118411879732\n",
      "Beauty 0.016224120352524508\n",
      "Casual;Brain Games 0.016172788110375643\n",
      "Educational;Brain Games 0.015867956317951834\n",
      "Education;Brain Games 0.015510629030942316\n",
      "Video Players & Editors;Music & Video 0.01491349278002992\n",
      "Role Playing;Pretend Play 0.01264664187746537\n",
      "Parenting 0.012313241798272135\n",
      "Casual;Music & Video 0.011930794224023935\n",
      "Adventure;Education 0.011930794224023935\n",
      "Education;Pretend Play 0.010253324556126169\n",
      "Education;Creativity 0.009932386191499925\n",
      "Events 0.00952862484991022\n",
      "Educational 0.008094629882440666\n",
      "Entertainment;Creativity 0.00715847653441436\n",
      "Education;Music & Video 0.006681244765453403\n",
      "Card;Action & Adventure 0.006561936823213164\n",
      "Sports;Action & Adventure 0.0063829749098528055\n",
      "Music;Music & Video 0.0060256476228432885\n",
      "Video Players & Editors;Creativity 0.005965397112011967\n",
      "Tools;Education 0.005965397112011967\n",
      "Role Playing;Brain Games 0.005965397112011967\n",
      "Lifestyle;Pretend Play 0.005965397112011967\n",
      "Board;Brain Games 0.004701985657658953\n",
      "Educational;Creativity 0.004179058946819984\n",
      "Entertainment;Action & Adventure 0.004175777978408377\n",
      "Parenting;Music & Video 0.00400278146216003\n",
      "Board;Action & Adventure 0.003582220965763186\n",
      "Entertainment;Pretend Play 0.00357923826720718\n",
      "Education;Action & Adventure 0.0023980896390288107\n",
      "Parenting;Education 0.0018910308845077938\n",
      "Art & Design;Creativity 0.0013183527617546447\n",
      "Simulation;Pretend Play 0.0012586987906345252\n",
      "Casual;Education 0.0011990448195144054\n",
      "Puzzle;Creativity 0.000894809566801795\n",
      "Strategy;Action & Adventure 0.0006561936823213164\n",
      "Strategy;Creativity 0.0005965397112011967\n",
      "Racing;Pretend Play 0.0005965397112011967\n",
      "Parenting;Brain Games 0.0005965397112011967\n",
      "Health & Fitness;Action & Adventure 0.0005965397112011967\n",
      "Entertainment;Education 0.0005965397112011967\n",
      "Art & Design;Pretend Play 0.0005965397112011967\n",
      "Arcade;Pretend Play 0.0005965397112011967\n",
      "Simulation;Education 0.0003582220965763186\n",
      "Strategy;Education 0.00029826985560059833\n",
      "Music & Audio;Music & Video 0.00029826985560059833\n",
      "Communication;Creativity 0.00029826985560059833\n",
      "Art & Design;Action & Adventure 0.00011930794224023935\n",
      "Travel & Local;Action & Adventure 5.9653971120119676e-05\n",
      "Puzzle;Education 5.9653971120119676e-05\n",
      "Lifestyle;Education 5.9653971120119676e-05\n",
      "Health & Fitness;Education 5.9653971120119676e-05\n",
      "Card;Brain Games 5.9653971120119676e-05\n",
      "Adventure;Brain Games 5.9653971120119676e-05\n",
      "Comics;Creativity 2.9826985560059838e-05\n",
      "Books & Reference;Education 6.561936823213164e-06\n",
      "Trivia;Education 5.965397112011966e-08\n",
      "Role Playing;Education 5.965397112011966e-08\n",
      "Books & Reference;Creativity 5.965397112011966e-08\n",
      "Board;Pretend Play 5.965397112011966e-08\n"
     ]
    }
   ],
   "source": [
    "android_install_table = {}\n",
    "android_install_total = 0\n",
    "unexpected_list = ['0', 'Free', 'Paid', 'Photography']\n",
    "\n",
    "for app in android:\n",
    "    genre = app[9]\n",
    "    install = app[5]\n",
    "    \n",
    "    if install in unexpected_list:\n",
    "        android.remove(app)\n",
    "        continue\n",
    "    \n",
    "    install = install[:-1]\n",
    "    install = float(install.replace(',', ''))\n",
    "    \n",
    "    if genre in android_install_table:\n",
    "        android_install_table[genre] += install\n",
    "    else:\n",
    "        android_install_table[genre] = install\n",
    "    android_install_total += install\n",
    "        \n",
    "for genre in android_install_table:\n",
    "    android_install_table[genre] /= android_install_total\n",
    "    android_install_table[genre] *= 100\n",
    "    \n",
    "android_val_key = []\n",
    "\n",
    "for genre, install in android_install_table.items():\n",
    "    android_val_key_tup = (install, genre)\n",
    "    android_val_key.append(android_val_key_tup)\n",
    "sorted_android_val_key = sorted(android_val_key, reverse = True)\n",
    "    \n",
    "for entry in sorted_android_val_key:\n",
    "    print(entry[1] ,entry[0])"
   ]
  },
  {
   "cell_type": "code",
   "execution_count": null,
   "metadata": {},
   "outputs": [],
   "source": []
  },
  {
   "cell_type": "code",
   "execution_count": null,
   "metadata": {},
   "outputs": [],
   "source": []
  }
 ],
 "metadata": {
  "kernelspec": {
   "display_name": "Python 3",
   "language": "python",
   "name": "python3"
  },
  "language_info": {
   "codemirror_mode": {
    "name": "ipython",
    "version": 3
   },
   "file_extension": ".py",
   "mimetype": "text/x-python",
   "name": "python",
   "nbconvert_exporter": "python",
   "pygments_lexer": "ipython3",
   "version": "3.7.3"
  }
 },
 "nbformat": 4,
 "nbformat_minor": 2
}
